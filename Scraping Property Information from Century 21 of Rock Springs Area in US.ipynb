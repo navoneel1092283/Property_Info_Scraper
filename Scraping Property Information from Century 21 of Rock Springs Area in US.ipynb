{
 "cells": [
  {
   "cell_type": "code",
   "execution_count": 1,
   "metadata": {},
   "outputs": [],
   "source": [
    "import requests\n",
    "from bs4 import BeautifulSoup\n",
    "import pandas"
   ]
  },
  {
   "cell_type": "markdown",
   "metadata": {},
   "source": [
    "# Web Scraping using Beautiful Soup"
   ]
  },
  {
   "cell_type": "code",
   "execution_count": 2,
   "metadata": {},
   "outputs": [],
   "source": [
    "r = requests.get(\"https://www.century21.com/real-estate/rock-springs-wy/LCWYROCKSPRINGS/\")\n",
    "c = r.content\n",
    "soup = BeautifulSoup(c, \"html.parser\")\n",
    "all = soup.find_all(\"div\", {\"class\" : \"property-card-primary-info\"})"
   ]
  },
  {
   "cell_type": "markdown",
   "metadata": {},
   "source": [
    "## Property Information include Address, Baths, Beds, Half_Baths, Price and Sqft"
   ]
  },
  {
   "cell_type": "code",
   "execution_count": 3,
   "metadata": {},
   "outputs": [],
   "source": [
    "l = []\n",
    "for item in all:\n",
    "    d = {}\n",
    "    d[\"Address\"] = item.find(\"div\", {\"class\" : \"property-address\"}).text.replace(\"\\n\",\"\").replace(\" \",\"\")\n",
    "    #print(item.find(\"div\", {\"class\" : \"property-address\"}).text.replace(\"\\n\",\"\").replace(\" \",\"\"))\n",
    "    d[\"Price\"] = item.find(\"a\", {\"class\" : \"listing-price\"}).text.replace(\"\\n\",\"\").replace(\" \",\"\")\n",
    "    #print(item.find(\"a\", {\"class\" : \"listing-price\"}).text.replace(\"\\n\",\"\").replace(\" \",\"\"))\n",
    "    if (len(item.find_all(\"div\", {\"class\" : \"property-beds\"})) != 0):\n",
    "        d[\"Beds\"] = item.find_all(\"div\", {\"class\" : \"property-beds\"})[0].find(\"strong\").text\n",
    "        #print(item.find_all(\"div\", {\"class\" : \"property-beds\"})[0].find(\"strong\").text + \" beds\")\n",
    "    else:\n",
    "        d[\"Beds\"] = float('nan')\n",
    "    if (len(item.find_all(\"div\", {\"class\" : \"property-baths\"})) != 0):\n",
    "        d[\"Baths\"] = item.find_all(\"div\", {\"class\" : \"property-baths\"})[0].find(\"strong\").text\n",
    "        #print(item.find_all(\"div\", {\"class\" : \"property-baths\"})[0].find(\"strong\").text\n",
    "    else:\n",
    "        d[\"Baths\"] = float('nan')\n",
    "    if (len(item.find_all(\"div\", {\"class\" : \"property-half-baths\"})) != 0):\n",
    "        d[\"Half_Baths\"] = item.find_all(\"div\", {\"class\" : \"property-half-baths\"})[0].find(\"strong\").text\n",
    "        #print(item.find_all(\"div\", {\"class\" : \"property-half-baths\"})[0].find(\"strong\").text + \" half baths\")\n",
    "    else:\n",
    "        d[\"Half_Baths\"] = float('nan')\n",
    "    if (len(item.find_all(\"div\", {\"class\" : \"property-sqft\"})) != 0):\n",
    "        d[\"Sqft\"] = item.find_all(\"div\", {\"class\" : \"property-sqft\"})[0].find(\"strong\").text\n",
    "        #print(item.find_all(\"div\", {\"class\" : \"property-sqft\"})[0].find(\"strong\").text + \" square feet\")\n",
    "    else:\n",
    "        d[\"Sqft\"] = float('nan')\n",
    "    #print(\"----------------\")\n",
    "    l.append(d)"
   ]
  },
  {
   "cell_type": "code",
   "execution_count": 4,
   "metadata": {},
   "outputs": [
    {
     "data": {
      "text/plain": [
       "[{'Address': '14MileRd.Hwy191',\n",
       "  'Price': '$1,995,000',\n",
       "  'Beds': '6',\n",
       "  'Baths': '3',\n",
       "  'Half_Baths': '1',\n",
       "  'Sqft': '6,880'},\n",
       " {'Address': '940Jefferson',\n",
       "  'Price': '$189,000',\n",
       "  'Beds': '3',\n",
       "  'Baths': '1',\n",
       "  'Half_Baths': nan,\n",
       "  'Sqft': '5,782'},\n",
       " {'Address': '3409BrickyardAve',\n",
       "  'Price': '$449,000',\n",
       "  'Beds': '6',\n",
       "  'Baths': '3',\n",
       "  'Half_Baths': '1',\n",
       "  'Sqft': nan},\n",
       " {'Address': '6121WildBuffaloCt',\n",
       "  'Price': '$183,000',\n",
       "  'Beds': '3',\n",
       "  'Baths': '2',\n",
       "  'Half_Baths': '1',\n",
       "  'Sqft': '1,701'},\n",
       " {'Address': '412WalnutStreet',\n",
       "  'Price': '$109,500',\n",
       "  'Beds': '4',\n",
       "  'Baths': '1',\n",
       "  'Half_Baths': '1',\n",
       "  'Sqft': '1,916'},\n",
       " {'Address': '1129HilltopDrive',\n",
       "  'Price': '$1,101,900',\n",
       "  'Beds': '4',\n",
       "  'Baths': '5',\n",
       "  'Half_Baths': '2',\n",
       "  'Sqft': '10,300'},\n",
       " {'Address': '505BStreet',\n",
       "  'Price': '$195,000',\n",
       "  'Beds': '2',\n",
       "  'Baths': nan,\n",
       "  'Half_Baths': nan,\n",
       "  'Sqft': nan},\n",
       " {'Address': '1183McTee',\n",
       "  'Price': '$59,900',\n",
       "  'Beds': '2',\n",
       "  'Baths': nan,\n",
       "  'Half_Baths': nan,\n",
       "  'Sqft': nan},\n",
       " {'Address': '801RhodeIslandAve',\n",
       "  'Price': '$137,000',\n",
       "  'Beds': '4',\n",
       "  'Baths': '1',\n",
       "  'Half_Baths': nan,\n",
       "  'Sqft': '1,760'},\n",
       " {'Address': '331ViaAssisi',\n",
       "  'Price': '$315,000',\n",
       "  'Beds': '4',\n",
       "  'Baths': '3',\n",
       "  'Half_Baths': '1',\n",
       "  'Sqft': nan},\n",
       " {'Address': '53MoxaArch',\n",
       "  'Price': '$225,000',\n",
       "  'Beds': nan,\n",
       "  'Baths': nan,\n",
       "  'Half_Baths': nan,\n",
       "  'Sqft': nan}]"
      ]
     },
     "execution_count": 4,
     "metadata": {},
     "output_type": "execute_result"
    }
   ],
   "source": [
    "l # viewing the information in a list"
   ]
  },
  {
   "cell_type": "markdown",
   "metadata": {},
   "source": [
    "# Converting the scraped data from lists into Pandas Dataframe"
   ]
  },
  {
   "cell_type": "code",
   "execution_count": 5,
   "metadata": {},
   "outputs": [],
   "source": [
    "df = pandas.DataFrame(l)"
   ]
  },
  {
   "cell_type": "code",
   "execution_count": 6,
   "metadata": {},
   "outputs": [
    {
     "data": {
      "text/html": [
       "<div>\n",
       "<style scoped>\n",
       "    .dataframe tbody tr th:only-of-type {\n",
       "        vertical-align: middle;\n",
       "    }\n",
       "\n",
       "    .dataframe tbody tr th {\n",
       "        vertical-align: top;\n",
       "    }\n",
       "\n",
       "    .dataframe thead th {\n",
       "        text-align: right;\n",
       "    }\n",
       "</style>\n",
       "<table border=\"1\" class=\"dataframe\">\n",
       "  <thead>\n",
       "    <tr style=\"text-align: right;\">\n",
       "      <th></th>\n",
       "      <th>Address</th>\n",
       "      <th>Baths</th>\n",
       "      <th>Beds</th>\n",
       "      <th>Half_Baths</th>\n",
       "      <th>Price</th>\n",
       "      <th>Sqft</th>\n",
       "    </tr>\n",
       "  </thead>\n",
       "  <tbody>\n",
       "    <tr>\n",
       "      <th>0</th>\n",
       "      <td>14MileRd.Hwy191</td>\n",
       "      <td>3</td>\n",
       "      <td>6</td>\n",
       "      <td>1</td>\n",
       "      <td>$1,995,000</td>\n",
       "      <td>6,880</td>\n",
       "    </tr>\n",
       "    <tr>\n",
       "      <th>1</th>\n",
       "      <td>940Jefferson</td>\n",
       "      <td>1</td>\n",
       "      <td>3</td>\n",
       "      <td>NaN</td>\n",
       "      <td>$189,000</td>\n",
       "      <td>5,782</td>\n",
       "    </tr>\n",
       "    <tr>\n",
       "      <th>2</th>\n",
       "      <td>3409BrickyardAve</td>\n",
       "      <td>3</td>\n",
       "      <td>6</td>\n",
       "      <td>1</td>\n",
       "      <td>$449,000</td>\n",
       "      <td>NaN</td>\n",
       "    </tr>\n",
       "    <tr>\n",
       "      <th>3</th>\n",
       "      <td>6121WildBuffaloCt</td>\n",
       "      <td>2</td>\n",
       "      <td>3</td>\n",
       "      <td>1</td>\n",
       "      <td>$183,000</td>\n",
       "      <td>1,701</td>\n",
       "    </tr>\n",
       "    <tr>\n",
       "      <th>4</th>\n",
       "      <td>412WalnutStreet</td>\n",
       "      <td>1</td>\n",
       "      <td>4</td>\n",
       "      <td>1</td>\n",
       "      <td>$109,500</td>\n",
       "      <td>1,916</td>\n",
       "    </tr>\n",
       "    <tr>\n",
       "      <th>5</th>\n",
       "      <td>1129HilltopDrive</td>\n",
       "      <td>5</td>\n",
       "      <td>4</td>\n",
       "      <td>2</td>\n",
       "      <td>$1,101,900</td>\n",
       "      <td>10,300</td>\n",
       "    </tr>\n",
       "    <tr>\n",
       "      <th>6</th>\n",
       "      <td>505BStreet</td>\n",
       "      <td>NaN</td>\n",
       "      <td>2</td>\n",
       "      <td>NaN</td>\n",
       "      <td>$195,000</td>\n",
       "      <td>NaN</td>\n",
       "    </tr>\n",
       "    <tr>\n",
       "      <th>7</th>\n",
       "      <td>1183McTee</td>\n",
       "      <td>NaN</td>\n",
       "      <td>2</td>\n",
       "      <td>NaN</td>\n",
       "      <td>$59,900</td>\n",
       "      <td>NaN</td>\n",
       "    </tr>\n",
       "    <tr>\n",
       "      <th>8</th>\n",
       "      <td>801RhodeIslandAve</td>\n",
       "      <td>1</td>\n",
       "      <td>4</td>\n",
       "      <td>NaN</td>\n",
       "      <td>$137,000</td>\n",
       "      <td>1,760</td>\n",
       "    </tr>\n",
       "    <tr>\n",
       "      <th>9</th>\n",
       "      <td>331ViaAssisi</td>\n",
       "      <td>3</td>\n",
       "      <td>4</td>\n",
       "      <td>1</td>\n",
       "      <td>$315,000</td>\n",
       "      <td>NaN</td>\n",
       "    </tr>\n",
       "    <tr>\n",
       "      <th>10</th>\n",
       "      <td>53MoxaArch</td>\n",
       "      <td>NaN</td>\n",
       "      <td>NaN</td>\n",
       "      <td>NaN</td>\n",
       "      <td>$225,000</td>\n",
       "      <td>NaN</td>\n",
       "    </tr>\n",
       "  </tbody>\n",
       "</table>\n",
       "</div>"
      ],
      "text/plain": [
       "              Address Baths Beds Half_Baths       Price    Sqft\n",
       "0     14MileRd.Hwy191     3    6          1  $1,995,000   6,880\n",
       "1        940Jefferson     1    3        NaN    $189,000   5,782\n",
       "2    3409BrickyardAve     3    6          1    $449,000     NaN\n",
       "3   6121WildBuffaloCt     2    3          1    $183,000   1,701\n",
       "4     412WalnutStreet     1    4          1    $109,500   1,916\n",
       "5    1129HilltopDrive     5    4          2  $1,101,900  10,300\n",
       "6          505BStreet   NaN    2        NaN    $195,000     NaN\n",
       "7           1183McTee   NaN    2        NaN     $59,900     NaN\n",
       "8   801RhodeIslandAve     1    4        NaN    $137,000   1,760\n",
       "9        331ViaAssisi     3    4          1    $315,000     NaN\n",
       "10         53MoxaArch   NaN  NaN        NaN    $225,000     NaN"
      ]
     },
     "execution_count": 6,
     "metadata": {},
     "output_type": "execute_result"
    }
   ],
   "source": [
    "df #viweing the pandas dataframe"
   ]
  },
  {
   "cell_type": "markdown",
   "metadata": {},
   "source": [
    "## Writing the dataframe into a CSV File "
   ]
  },
  {
   "cell_type": "code",
   "execution_count": 7,
   "metadata": {},
   "outputs": [],
   "source": [
    "df.to_csv(\"Properties in Rock Springs.csv\", index = False)"
   ]
  },
  {
   "cell_type": "code",
   "execution_count": null,
   "metadata": {},
   "outputs": [],
   "source": []
  }
 ],
 "metadata": {
  "kernelspec": {
   "display_name": "Python 3",
   "language": "python",
   "name": "python3"
  },
  "language_info": {
   "codemirror_mode": {
    "name": "ipython",
    "version": 3
   },
   "file_extension": ".py",
   "mimetype": "text/x-python",
   "name": "python",
   "nbconvert_exporter": "python",
   "pygments_lexer": "ipython3",
   "version": "3.7.3"
  }
 },
 "nbformat": 4,
 "nbformat_minor": 2
}
